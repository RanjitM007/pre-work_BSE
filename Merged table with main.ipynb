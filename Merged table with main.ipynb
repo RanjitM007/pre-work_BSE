{
 "cells": [
  {
   "cell_type": "code",
   "execution_count": 1,
   "id": "ae1b7c7a",
   "metadata": {},
   "outputs": [],
   "source": [
    "import pandas as pd\n",
    "import os\n",
    "\n",
    "path = './D:/stock price before merged/'\n",
    "lst = os.listdir('D:/stock price before merged/')\n",
    "files = [os.path.join(path,el) for el in lst]\n",
    "eq=pd.read_csv('https://raw.githubusercontent.com/RanjitM007/pre-work_BSE/main/Equity.csv')"
   ]
  },
  {
   "cell_type": "markdown",
   "id": "d1ef1088",
   "metadata": {},
   "source": [
    "# Getting the Security code from the file"
   ]
  },
  {
   "cell_type": "code",
   "execution_count": 2,
   "id": "e0f51f32",
   "metadata": {},
   "outputs": [],
   "source": [
    "#getting the Security code\n",
    "def security_code(file):\n",
    "    f1=file.split('/')\n",
    "    f2=f1[-1]\n",
    "    f3=f2.split('.')\n",
    "    security_code=f3[0]\n",
    "    return security_code"
   ]
  },
  {
   "cell_type": "code",
   "execution_count": null,
   "id": "c8ea78b4",
   "metadata": {},
   "outputs": [],
   "source": []
  },
  {
   "cell_type": "markdown",
   "id": "b93af167",
   "metadata": {},
   "source": [
    "# data frame meraged"
   ]
  },
  {
   "cell_type": "code",
   "execution_count": 3,
   "id": "3f6a231c",
   "metadata": {},
   "outputs": [],
   "source": [
    "\n",
    "def dataframe_mearged_output(files):\n",
    "    code=security_code(files)\n",
    "    current_code=eq[eq['Security Id']==code]\n",
    "    df1=pd.read_csv(files[2:])#if file path will change then need to update\n",
    "    col=df1.columns.to_list()\n",
    "    len_col=len(df1[col[0]].tolist())\n",
    "    multiple_df=current_code.sample(n=len_col,replace=True)\n",
    "    final_df=pd.concat([multiple_df,df1])\n",
    "    file_save_name=final_df['Security Name'].tolist()\n",
    "    #saving the File\n",
    "    final_df.to_csv(\"D:/stock_data_after_merged/\"+str(file_save_name[1][:-1])+\".csv\",index=False)\n",
    "    return final_df"
   ]
  },
  {
   "cell_type": "code",
   "execution_count": 4,
   "id": "49158b10",
   "metadata": {},
   "outputs": [],
   "source": [
    "for i in files:\n",
    "    dataframe_mearged_output(i)"
   ]
  },
  {
   "cell_type": "code",
   "execution_count": null,
   "id": "25054de5",
   "metadata": {},
   "outputs": [],
   "source": []
  }
 ],
 "metadata": {
  "kernelspec": {
   "display_name": "Python 3 (ipykernel)",
   "language": "python",
   "name": "python3"
  },
  "language_info": {
   "codemirror_mode": {
    "name": "ipython",
    "version": 3
   },
   "file_extension": ".py",
   "mimetype": "text/x-python",
   "name": "python",
   "nbconvert_exporter": "python",
   "pygments_lexer": "ipython3",
   "version": "3.9.12"
  }
 },
 "nbformat": 4,
 "nbformat_minor": 5
}
